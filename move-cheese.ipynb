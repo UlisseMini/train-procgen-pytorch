{
 "cells": [
  {
   "cell_type": "code",
   "execution_count": 1,
   "id": "168e4f9b",
   "metadata": {},
   "outputs": [],
   "source": [
    "%matplotlib inline\n",
    "import matplotlib.pyplot as plt"
   ]
  },
  {
   "cell_type": "code",
   "execution_count": 2,
   "id": "c39ba8f5",
   "metadata": {},
   "outputs": [],
   "source": [
    "import numpy as np\n",
    "from procgen import ProcgenEnv\n",
    "import struct\n",
    "from dataclasses import dataclass\n",
    "import typing\n",
    "from einops import rearrange"
   ]
  },
  {
   "cell_type": "code",
   "execution_count": 112,
   "id": "cb94010e",
   "metadata": {},
   "outputs": [],
   "source": [
    "\n",
    "# Parse the environment state dict\n",
    "\n",
    "MAZE_STATE_DICT_TEMPLATE = [\n",
    "    ['int',    'SERIALIZE_VERSION'],\n",
    "    ['string', 'game_name'],\n",
    "    ['int',    'options.paint_vel_info'],\n",
    "    ['int',    'options.use_generated_assets'],\n",
    "    ['int',    'options.use_monochrome_assets'],\n",
    "    ['int',    'options.restrict_themes'],\n",
    "    ['int',    'options.use_backgrounds'],\n",
    "    ['int',    'options.center_agent'],\n",
    "    ['int',    'options.debug_mode'],\n",
    "    ['int',    'options.distribution_mode'],\n",
    "    ['int',    'options.use_sequential_levels'],\n",
    "    ['int',    'options.use_easy_jump'],\n",
    "    ['int',    'options.plain_assets'],\n",
    "    ['int',    'options.physics_mode'],\n",
    "    ['int',    'grid_step'],\n",
    "    ['int',    'level_seed_low'],\n",
    "    ['int',    'level_seed_high'],\n",
    "    ['int',    'game_type'],\n",
    "    ['int',    'game_n'],\n",
    "    # level_seed_rand_gen.serialize(b'],\n",
    "    ['int',    'level_seed_rand_gen.is_seeded'],\n",
    "    ['string', 'level_seed_rand_gen.str'],\n",
    "    # end level_seed_rand_gen.serialize(b'],\n",
    "    # rand_gen.serialize(b'],\n",
    "    ['int',    'rand_gen.is_seeded'],\n",
    "    ['string', 'rand_gen.str'],\n",
    "    # end rand_gen.serialize(b'],\n",
    "    ['float',  'step_data.reward'],\n",
    "    ['int',    'step_data.done'],\n",
    "    ['int',    'step_data.level_complete'],\n",
    "    ['int',    'action'],\n",
    "    ['int',    'timeout'],\n",
    "    ['int',    'current_level_seed'],\n",
    "    ['int',    'prev_level_seed'],\n",
    "    ['int',    'episodes_remaining'],\n",
    "    ['int',    'episode_done'],\n",
    "    ['int',    'last_reward_timer'],\n",
    "    ['float',  'last_reward'],\n",
    "    ['int',    'default_action'],\n",
    "    ['int',    'fixed_asset_seed'],\n",
    "    ['int',    'cur_time'],\n",
    "    ['int',    'is_waiting_for_step'],\n",
    "    # end Game::serialize(b'],\n",
    "    ['int',    'grid_size'],\n",
    "    # write_entities(b, entities'],\n",
    "    ['int',    'ents.size'],\n",
    "    #for (size_t i = 0; i < ents.size(', i++)\n",
    "    ['loop',   'ents', 'ents.size', [\n",
    "        # ents[i]->serialize(b'],\n",
    "        ['float',  'x'],\n",
    "        ['float',  'y'],\n",
    "        ['float',  'vx'],\n",
    "        ['float',  'vy'],\n",
    "        ['float',  'rx'],\n",
    "        ['float',  'ry'],\n",
    "        ['int',    'type'],\n",
    "        ['int',    'image_type'],\n",
    "        ['int',    'image_theme'],\n",
    "        ['int',    'render_z'],\n",
    "        ['int',    'will_erase'],\n",
    "        ['int',    'collides_with_entities'],\n",
    "        ['float',  'collision_margin'],\n",
    "        ['float',  'rotation'],\n",
    "        ['float',  'vrot'],\n",
    "        ['int',    'is_reflected'],\n",
    "        ['int',    'fire_time'],\n",
    "        ['int',    'spawn_time'],\n",
    "        ['int',    'life_time'],\n",
    "        ['int',    'expire_time'],\n",
    "        ['int',    'use_abs_coords'],\n",
    "        ['float',  'friction'],\n",
    "        ['int',    'smart_step'],\n",
    "        ['int',    'avoids_collisions'],\n",
    "        ['int',    'auto_erase'],\n",
    "        ['float',  'alpha'],\n",
    "        ['float',  'health'],\n",
    "        ['float',  'theta'],\n",
    "        ['float',  'grow_rate'],\n",
    "        ['float',  'alpha_decay'],\n",
    "        ['float',  'climber_spawn_x',]]],\n",
    "    # end ents[i]->serialize(b'],\n",
    "    # end write_entities\n",
    "    ['int',    'use_procgen_background'],\n",
    "    ['int',    'background_index'],\n",
    "    ['float',  'bg_tile_ratio'],\n",
    "    ['float',  'bg_pct_x'],\n",
    "    ['float',  'char_dim'],\n",
    "    ['int',    'last_move_action'],\n",
    "    ['int',    'move_action'],\n",
    "    ['int',    'special_action'],\n",
    "    ['float',  'mixrate'],\n",
    "    ['float',  'maxspeed'],\n",
    "    ['float',  'max_jump'],\n",
    "    ['float',  'action_vx'],\n",
    "    ['float',  'action_vy'],\n",
    "    ['float',  'action_vrot'],\n",
    "    ['float',  'center_x'],\n",
    "    ['float',  'center_y'],\n",
    "    ['int',    'random_agent_start'],\n",
    "    ['int',    'has_useful_vel_info'],\n",
    "    ['int',    'step_rand_int'],\n",
    "    # asset_rand_gen.serialize(b'],\n",
    "    ['int',    'asset_rand_gen.is_seeded'],\n",
    "    ['string', 'asset_rand_gen.str'],\n",
    "    # end asset_rand_gen.serialize(b'],\n",
    "    ['int',    'main_width'],\n",
    "    ['int',    'main_height'],\n",
    "    ['int',    'out_of_bounds_object'],\n",
    "    ['float',  'unit'],\n",
    "    ['float',  'view_dim'],\n",
    "    ['float',  'x_off'],\n",
    "    ['float',  'y_off'],\n",
    "    ['float',  'visibility'],\n",
    "    ['float',  'min_visibility'],\n",
    "    # grid.serialize(b'],\n",
    "    ['int',    'w'],\n",
    "    ['int',    'h'],\n",
    "    # b->write_vector_int(data'],\n",
    "    ['int',    'data.size'],\n",
    "    # for (auto i : v) {\n",
    "    ['loop',   'data', 'data.size', [['int',    'i']]],\n",
    "    # end b->write_vector_int(data'],\n",
    "    # end grid.serialize(b'],\n",
    "    # end BasicAbstractGame::serialize(b'],\n",
    "    ['int',    'maze_dim'],\n",
    "    ['int',    'world_dim'], \n",
    "    ['int',    'END_OF_BUFFER']]\n",
    "\n",
    "@dataclass\n",
    "class StateValue:\n",
    "    val: typing.Any\n",
    "    idx: int\n",
    "\n",
    "def parse_maze_state_bytes(state_bytes):\n",
    "    # Functions to read values of different types\n",
    "    def read_fixed(sb, idx, fmt):\n",
    "        sz = struct.calcsize(fmt)\n",
    "        # print(f'{idx} chomp {sz} got {len(sb[idx:(idx+sz)])} fmt {fmt}')\n",
    "        val = struct.unpack(fmt, sb[idx:(idx+sz)])[0]\n",
    "        idx += sz\n",
    "        return val, idx\n",
    "    read_int = lambda sb, idx: read_fixed(sb, idx, '@i')\n",
    "    read_float = lambda sb, idx: read_fixed(sb, idx, '@f')\n",
    "    def read_string(sb, idx):\n",
    "        sz, idx = read_int(sb, idx)\n",
    "        val = sb[idx:(idx+sz)].decode('ascii')\n",
    "        idx += sz\n",
    "        return val, idx\n",
    "    \n",
    "    # Function to process a value definition and return a value (called recursively for loops)\n",
    "    def parse_value(vals, val_def, idx):\n",
    "        typ = val_def[0]\n",
    "        name = val_def[1]\n",
    "        # print((typ, name))\n",
    "        if typ == 'int':\n",
    "            val, idx = read_int(state_bytes, idx)\n",
    "            vals[name] = StateValue(val, idx)\n",
    "        elif typ == 'float':\n",
    "            val, idx = read_float(state_bytes, idx)\n",
    "            vals[name] = StateValue(val, idx)\n",
    "        elif typ == 'string':\n",
    "            val, idx = read_string(state_bytes, idx)\n",
    "            vals[name] = StateValue(val, idx)\n",
    "        elif typ == 'loop':\n",
    "            len_name = val_def[2]\n",
    "            loop_val_defs = val_def[3]\n",
    "            loop_len = vals[len_name].val\n",
    "            vals[name] = []\n",
    "            for ii in range(loop_len):\n",
    "                vals_this = {}\n",
    "                for loop_val_def in loop_val_defs:\n",
    "                    idx = parse_value(vals_this, loop_val_def, idx)\n",
    "                vals[name].append(vals_this)\n",
    "        return idx\n",
    "    \n",
    "    # Dict to hold values\n",
    "    vals = {}\n",
    "    \n",
    "    # Loop over list of value defs, parsing each\n",
    "    idx = 0\n",
    "    for val_def in MAZE_STATE_DICT_TEMPLATE:\n",
    "        idx = parse_value(vals, val_def, idx)\n",
    "\n",
    "    return vals\n",
    "\n",
    "def serialize_maze_state(state_vals):\n",
    "    # Serialize any value to a bytes object\n",
    "    def serialize_val(val):\n",
    "        if isinstance(val, StateValue):\n",
    "            val = val.val\n",
    "        if isinstance(val, int):\n",
    "            return struct.pack('@i', val)\n",
    "        elif isinstance(val, float):\n",
    "            return struct.pack('@f', val)\n",
    "        elif isinstance(val, str):\n",
    "            return serialize_val(len(val)) + val.encode('ascii')\n",
    " \n",
    "    # Flatten the nested values into a single list of primitives\n",
    "    def flatten_vals(vals, flat_list=[]):\n",
    "        if isinstance(vals, dict):\n",
    "            for val in vals.values():\n",
    "                flatten_vals(val, flat_list)\n",
    "        elif isinstance(vals, list):\n",
    "            for val in vals:\n",
    "                flatten_vals(val, flat_list)\n",
    "        else:\n",
    "            flat_list.append(vals)\n",
    "    \n",
    "    # Flatten the values, then serialize\n",
    "    flat_vals = []\n",
    "    flatten_vals(state_vals, flat_vals)\n",
    "    return b''.join([serialize_val(val) for val in flat_vals])\n",
    "    #return sum([serialize_val(val) for val in flat_vals])\n",
    "    #return serialize_val(state_vals)\n",
    "\n"
   ]
  },
  {
   "cell_type": "code",
   "execution_count": 172,
   "id": "9e59fb8b",
   "metadata": {},
   "outputs": [],
   "source": [
    "from procgen import ProcgenGym3Env\n",
    "from common.env.procgen_wrappers import TransposeFrame, ScaledFloatFrame, VecExtractDictObs\n",
    "from gym3 import ViewerWrapper, VideoRecorderWrapper, ToBaselinesVecEnv\n",
    "\n",
    "# same wrapper used for agent\n",
    "def create_venv_render():\n",
    "    venv = ProcgenGym3Env(\n",
    "        num=1, env_name='maze', num_levels=0, start_level=0,\n",
    "        distribution_mode='hard', num_threads=1, render_mode=\"rgb_array\",\n",
    "    )\n",
    "    venv = ToBaselinesVecEnv(venv) # gym3 env to gym env converter\n",
    "    venv = VecExtractDictObs(venv, \"rgb\")\n",
    "\n",
    "    venv = TransposeFrame(venv)\n",
    "    venv = ScaledFloatFrame(venv)\n",
    "    return venv\n"
   ]
  },
  {
   "cell_type": "code",
   "execution_count": 173,
   "id": "4040a1fc",
   "metadata": {},
   "outputs": [
    {
     "data": {
      "text/plain": [
       "<matplotlib.image.AxesImage at 0x7f429c749e10>"
      ]
     },
     "execution_count": 173,
     "metadata": {},
     "output_type": "execute_result"
    },
    {
     "data": {
      "image/png": "[encoded data removed]",
      "text/plain": [
       "<Figure size 640x480 with 1 Axes>"
      ]
     },
     "metadata": {},
     "output_type": "display_data"
    }
   ],
   "source": [
    "# Make env the gym3 way\n",
    "# venv = ProcgenEnv(num_envs=1, env_name='maze', num_levels=0, start_level=0)\n",
    "venv = create_venv_render()\n",
    "obs = venv.reset()\n",
    "plt.imshow(obs[0].transpose(1,2,0))"
   ]
  },
  {
   "cell_type": "code",
   "execution_count": 174,
   "id": "98e5034a",
   "metadata": {},
   "outputs": [],
   "source": [
    "# Get the serialized state\n",
    "state_bytes = venv.env.callmethod(\"get_state\")[0]\n",
    "state_vals = parse_maze_state_bytes(state_bytes)\n",
    "\n",
    "# Test that serialize(deserialize(x)) = x\n",
    "assert state_bytes == serialize_maze_state(state_vals)"
   ]
  },
  {
   "cell_type": "code",
   "execution_count": 175,
   "id": "f8df9ab3",
   "metadata": {},
   "outputs": [
    {
     "data": {
      "text/plain": [
       "StateValue(val=25, idx=23054)"
      ]
     },
     "execution_count": 175,
     "metadata": {},
     "output_type": "execute_result"
    }
   ],
   "source": [
    "state_vals['world_dim']"
   ]
  },
  {
   "cell_type": "code",
   "execution_count": 176,
   "id": "0c114e75",
   "metadata": {},
   "outputs": [
    {
     "data": {
      "text/plain": [
       "<matplotlib.image.AxesImage at 0x7f429c615d20>"
      ]
     },
     "execution_count": 176,
     "metadata": {},
     "output_type": "execute_result"
    },
    {
     "data": {
      "image/png": "[encoded data removed]",
      "text/plain": [
       "<Figure size 640x480 with 1 Axes>"
      ]
     },
     "metadata": {},
     "output_type": "display_data"
    }
   ],
   "source": [
    "# Show that we can get the maze state (walls, cheese, etc.)\n",
    "#grid_vals = rearrange(np.array([dd['i'].val for dd in state_vals['data']]), '(h w) -> h w', \n",
    "#    h=state_vals['world_dim'].val)\n",
    "\n",
    "world_dim = state_vals['world_dim'].val\n",
    "grid_vals = np.array([dd['i'].val for dd in state_vals['data']]).reshape(world_dim, world_dim)\n",
    "plt.imshow(grid_vals, origin='lower')"
   ]
  },
  {
   "cell_type": "code",
   "execution_count": 177,
   "id": "dbc345e7",
   "metadata": {},
   "outputs": [
    {
     "data": {
      "text/plain": [
       "<matplotlib.image.AxesImage at 0x7f429c67a4a0>"
      ]
     },
     "execution_count": 177,
     "metadata": {},
     "output_type": "execute_result"
    },
    {
     "data": {
      "image/png": "[encoded data removed]",
      "text/plain": [
       "<Figure size 640x480 with 1 Axes>"
      ]
     },
     "metadata": {},
     "output_type": "display_data"
    }
   ],
   "source": [
    "# Get the cheese position\n",
    "GRID_VAL_CHEESE = 2\n",
    "GRID_VAL_OPEN = 100\n",
    "curr_cheese_row, curr_cheese_col = [a[0] for a in np.nonzero(grid_vals==GRID_VAL_CHEESE)] # We know there will only be one element in these index arrays\n",
    "# equiv to (25*curr_cheese_row + curr_cheese_col) in this case\n",
    "curr_cheese_idx = np.ravel_multi_index((curr_cheese_row, curr_cheese_col), grid_vals.shape)\n",
    "\n",
    "# Get rid of existing cheese\n",
    "state_vals['data'][curr_cheese_idx]['i'].val = GRID_VAL_OPEN\n",
    "\n",
    "# Move the cheese to the top right corner (highest top right open square)\n",
    "htr = [i for i in range(len(grid_vals)) if grid_vals[i, i] == GRID_VAL_OPEN][-1]\n",
    "new_cheese_idx = np.ravel_multi_index((htr, htr), grid_vals.shape)\n",
    "assert state_vals['data'][new_cheese_idx]['i'].val == GRID_VAL_OPEN, f'cheese cant go there'\n",
    "state_vals['data'][new_cheese_idx]['i'].val = GRID_VAL_CHEESE\n",
    "\n",
    "# plot the new grid\n",
    "grid_vals = rearrange(np.array([dd['i'].val for dd in state_vals['data']]), '(h w) -> h w', \n",
    "    h=state_vals['world_dim'].val)\n",
    "plt.imshow(grid_vals, origin='lower')"
   ]
  },
  {
   "cell_type": "code",
   "execution_count": 178,
   "id": "79a5b8f5",
   "metadata": {},
   "outputs": [],
   "source": [
    "# Re-serialize the modified states\n",
    "state_bytes_mod = serialize_maze_state(state_vals)\n"
   ]
  },
  {
   "cell_type": "code",
   "execution_count": 179,
   "id": "f34a2398",
   "metadata": {},
   "outputs": [
    {
     "data": {
      "text/plain": [
       "<matplotlib.image.AxesImage at 0x7f429c4f92a0>"
      ]
     },
     "execution_count": 179,
     "metadata": {},
     "output_type": "execute_result"
    },
    {
     "data": {
      "image/png": "[encoded data removed]",
      "text/plain": [
       "<Figure size 640x480 with 1 Axes>"
      ]
     },
     "metadata": {},
     "output_type": "display_data"
    }
   ],
   "source": [
    "# Try loading a new env, then loading the modified state, see if it all works\n",
    "venv = create_venv_render()\n",
    "venv.env.callmethod(\"set_state\", [state_bytes_mod])\n",
    "obs = venv.reset()\n",
    "plt.imshow(obs[0].transpose(1,2,0))"
   ]
  },
  {
   "cell_type": "markdown",
   "id": "855c69ca",
   "metadata": {},
   "source": [
    "# Run agent on the maze"
   ]
  },
  {
   "cell_type": "code",
   "execution_count": 180,
   "id": "d4c8717c",
   "metadata": {},
   "outputs": [],
   "source": [
    "import torch"
   ]
  },
  {
   "cell_type": "code",
   "execution_count": 181,
   "id": "ec7917ae",
   "metadata": {},
   "outputs": [],
   "source": [
    "checkpoint = torch.load('./model_200015872.pth', map_location=torch.device('cpu'))"
   ]
  },
  {
   "cell_type": "code",
   "execution_count": 182,
   "id": "77fb0fa2",
   "metadata": {},
   "outputs": [
    {
     "data": {
      "text/plain": [
       "<matplotlib.image.AxesImage at 0x7f429c56ec50>"
      ]
     },
     "execution_count": 182,
     "metadata": {},
     "output_type": "execute_result"
    },
    {
     "data": {
      "image/png": "[encoded data removed]",
      "text/plain": [
       "<Figure size 640x480 with 1 Axes>"
      ]
     },
     "metadata": {},
     "output_type": "display_data"
    }
   ],
   "source": [
    "obs = venv.reset()\n",
    "plt.imshow(obs[0].transpose(1,2,0))"
   ]
  },
  {
   "cell_type": "code",
   "execution_count": 184,
   "id": "a7799492",
   "metadata": {},
   "outputs": [
    {
     "name": "stdout",
     "output_type": "stream",
     "text": [
      "algo : ppo\n",
      "n_envs : 128\n",
      "n_steps : 256\n",
      "epoch : 3\n",
      "mini_batch_per_epoch : 8\n",
      "mini_batch_size : 2048\n",
      "gamma : 0.999\n",
      "lmbda : 0.95\n",
      "learning_rate : 0.0005\n",
      "grad_clip_norm : 0.5\n",
      "eps_clip : 0.2\n",
      "value_coef : 0.5\n",
      "entropy_coef : 0.01\n",
      "normalize_adv : True\n",
      "normalize_rew : True\n",
      "use_gae : True\n",
      "architecture : impala\n",
      "recurrent : False\n"
     ]
    }
   ],
   "source": [
    "import yaml\n",
    "param_name = 'easy-200' # default in argparse\n",
    "with open('hyperparams/procgen/config.yml', 'r') as f:\n",
    "    hyperparameters = yaml.safe_load(f)[param_name]\n",
    "for key, value in hyperparameters.items():\n",
    "    print(key, ':', value)\n"
   ]
  },
  {
   "cell_type": "code",
   "execution_count": 201,
   "id": "f2de3a5b",
   "metadata": {},
   "outputs": [],
   "source": [
    "from common.logger import Logger\n",
    "from common.storage import Storage\n",
    "from common.model import NatureModel, ImpalaModel\n",
    "from common.policy import CategoricalPolicy\n",
    "from agents.ppo import PPO"
   ]
  },
  {
   "cell_type": "code",
   "execution_count": 206,
   "id": "ad50d907",
   "metadata": {},
   "outputs": [
    {
     "data": {
      "text/plain": [
       "(3, 64, 64)"
      ]
     },
     "execution_count": 206,
     "metadata": {},
     "output_type": "execute_result"
    }
   ],
   "source": [
    "observation_shape"
   ]
  },
  {
   "cell_type": "code",
   "execution_count": 221,
   "id": "f2c354c8",
   "metadata": {},
   "outputs": [],
   "source": [
    "# How I used to be doing it (in colab)\n",
    "\"\"\"\n",
    "import gym\n",
    "from stable_baselines3.common.vec_env import DummyVecEnv\n",
    "\n",
    "# Wrapper that does the same thing as TransposeFrame and ScaledFloatFrame\n",
    "class TrasposeAndScaleFrame(gym.ObservationWrapper):\n",
    "    def __init__(self, env):\n",
    "        super().__init__(env)\n",
    "        obs_shape = self.observation_space.shape\n",
    "        self.observation_space = gym.spaces.Box(low=0, high=1,\n",
    "            shape=(obs_shape[2], obs_shape[0], obs_shape[1]), dtype=np.float32)\n",
    "    def observation(self, obs):\n",
    "        # modify obs\n",
    "        return obs.transpose(0,3,1,2)/255.0\n",
    "\n",
    "env = gym.make('procgen:procgen-maze-v0', start_level=0, num_levels=1,\n",
    "    render_mode='rgb_array')\n",
    "env = gym.wrappers.RecordEpisodeStatistics(env)\n",
    "env = DummyVecEnv([lambda: env])\n",
    "env = TrasposeAndScaleFrame(env)\n",
    "\n",
    "\"\"\";"
   ]
  },
  {
   "cell_type": "code",
   "execution_count": 222,
   "id": "80fccbf4",
   "metadata": {},
   "outputs": [
    {
     "data": {
      "text/plain": [
       "(3, 64, 64)"
      ]
     },
     "execution_count": 222,
     "metadata": {},
     "output_type": "execute_result"
    }
   ],
   "source": [
    "env.observation_space.shape"
   ]
  },
  {
   "cell_type": "code",
   "execution_count": 223,
   "id": "0d38475a",
   "metadata": {},
   "outputs": [
    {
     "ename": "RuntimeError",
     "evalue": "Error(s) in loading state_dict for CategoricalPolicy:\n\tsize mismatch for embedder.block1.conv.weight: copying a param with shape torch.Size([16, 3, 3, 3]) from checkpoint, the shape in current model is torch.Size([64, 3, 3, 3]).\n\tsize mismatch for embedder.block1.conv.bias: copying a param with shape torch.Size([16]) from checkpoint, the shape in current model is torch.Size([64]).\n\tsize mismatch for embedder.block1.res1.conv1.weight: copying a param with shape torch.Size([16, 16, 3, 3]) from checkpoint, the shape in current model is torch.Size([64, 64, 3, 3]).\n\tsize mismatch for embedder.block1.res1.conv1.bias: copying a param with shape torch.Size([16]) from checkpoint, the shape in current model is torch.Size([64]).\n\tsize mismatch for embedder.block1.res1.conv2.weight: copying a param with shape torch.Size([16, 16, 3, 3]) from checkpoint, the shape in current model is torch.Size([64, 64, 3, 3]).\n\tsize mismatch for embedder.block1.res1.conv2.bias: copying a param with shape torch.Size([16]) from checkpoint, the shape in current model is torch.Size([64]).\n\tsize mismatch for embedder.block1.res2.conv1.weight: copying a param with shape torch.Size([16, 16, 3, 3]) from checkpoint, the shape in current model is torch.Size([64, 64, 3, 3]).\n\tsize mismatch for embedder.block1.res2.conv1.bias: copying a param with shape torch.Size([16]) from checkpoint, the shape in current model is torch.Size([64]).\n\tsize mismatch for embedder.block1.res2.conv2.weight: copying a param with shape torch.Size([16, 16, 3, 3]) from checkpoint, the shape in current model is torch.Size([64, 64, 3, 3]).\n\tsize mismatch for embedder.block1.res2.conv2.bias: copying a param with shape torch.Size([16]) from checkpoint, the shape in current model is torch.Size([64]).\n\tsize mismatch for embedder.block2.conv.weight: copying a param with shape torch.Size([32, 16, 3, 3]) from checkpoint, the shape in current model is torch.Size([128, 64, 3, 3]).\n\tsize mismatch for embedder.block2.conv.bias: copying a param with shape torch.Size([32]) from checkpoint, the shape in current model is torch.Size([128]).\n\tsize mismatch for embedder.block2.res1.conv1.weight: copying a param with shape torch.Size([32, 32, 3, 3]) from checkpoint, the shape in current model is torch.Size([128, 128, 3, 3]).\n\tsize mismatch for embedder.block2.res1.conv1.bias: copying a param with shape torch.Size([32]) from checkpoint, the shape in current model is torch.Size([128]).\n\tsize mismatch for embedder.block2.res1.conv2.weight: copying a param with shape torch.Size([32, 32, 3, 3]) from checkpoint, the shape in current model is torch.Size([128, 128, 3, 3]).\n\tsize mismatch for embedder.block2.res1.conv2.bias: copying a param with shape torch.Size([32]) from checkpoint, the shape in current model is torch.Size([128]).\n\tsize mismatch for embedder.block2.res2.conv1.weight: copying a param with shape torch.Size([32, 32, 3, 3]) from checkpoint, the shape in current model is torch.Size([128, 128, 3, 3]).\n\tsize mismatch for embedder.block2.res2.conv1.bias: copying a param with shape torch.Size([32]) from checkpoint, the shape in current model is torch.Size([128]).\n\tsize mismatch for embedder.block2.res2.conv2.weight: copying a param with shape torch.Size([32, 32, 3, 3]) from checkpoint, the shape in current model is torch.Size([128, 128, 3, 3]).\n\tsize mismatch for embedder.block2.res2.conv2.bias: copying a param with shape torch.Size([32]) from checkpoint, the shape in current model is torch.Size([128]).\n\tsize mismatch for embedder.block3.conv.weight: copying a param with shape torch.Size([32, 32, 3, 3]) from checkpoint, the shape in current model is torch.Size([128, 128, 3, 3]).\n\tsize mismatch for embedder.block3.conv.bias: copying a param with shape torch.Size([32]) from checkpoint, the shape in current model is torch.Size([128]).\n\tsize mismatch for embedder.block3.res1.conv1.weight: copying a param with shape torch.Size([32, 32, 3, 3]) from checkpoint, the shape in current model is torch.Size([128, 128, 3, 3]).\n\tsize mismatch for embedder.block3.res1.conv1.bias: copying a param with shape torch.Size([32]) from checkpoint, the shape in current model is torch.Size([128]).\n\tsize mismatch for embedder.block3.res1.conv2.weight: copying a param with shape torch.Size([32, 32, 3, 3]) from checkpoint, the shape in current model is torch.Size([128, 128, 3, 3]).\n\tsize mismatch for embedder.block3.res1.conv2.bias: copying a param with shape torch.Size([32]) from checkpoint, the shape in current model is torch.Size([128]).\n\tsize mismatch for embedder.block3.res2.conv1.weight: copying a param with shape torch.Size([32, 32, 3, 3]) from checkpoint, the shape in current model is torch.Size([128, 128, 3, 3]).\n\tsize mismatch for embedder.block3.res2.conv1.bias: copying a param with shape torch.Size([32]) from checkpoint, the shape in current model is torch.Size([128]).\n\tsize mismatch for embedder.block3.res2.conv2.weight: copying a param with shape torch.Size([32, 32, 3, 3]) from checkpoint, the shape in current model is torch.Size([128, 128, 3, 3]).\n\tsize mismatch for embedder.block3.res2.conv2.bias: copying a param with shape torch.Size([32]) from checkpoint, the shape in current model is torch.Size([128]).\n\tsize mismatch for embedder.fc.weight: copying a param with shape torch.Size([256, 2048]) from checkpoint, the shape in current model is torch.Size([256, 8192]).",
     "output_type": "error",
     "traceback": [
      "\u001b[0;31m---------------------------------------------------------------------------\u001b[0m",
      "\u001b[0;31mRuntimeError\u001b[0m                              Traceback (most recent call last)",
      "Cell \u001b[0;32mIn [223], line 22\u001b[0m\n\u001b[1;32m     18\u001b[0m storage \u001b[38;5;241m=\u001b[39m Storage(observation_shape, hidden_state_dim, n_steps, n_envs, device)\n\u001b[1;32m     21\u001b[0m agent \u001b[38;5;241m=\u001b[39m PPO(venv, policy, logger, storage, device, n_checkpoints\u001b[38;5;241m=\u001b[39m\u001b[38;5;241m1\u001b[39m, \u001b[38;5;241m*\u001b[39m\u001b[38;5;241m*\u001b[39mhyperparameters)\n\u001b[0;32m---> 22\u001b[0m \u001b[43magent\u001b[49m\u001b[38;5;241;43m.\u001b[39;49m\u001b[43mpolicy\u001b[49m\u001b[38;5;241;43m.\u001b[39;49m\u001b[43mload_state_dict\u001b[49m\u001b[43m(\u001b[49m\u001b[43mcheckpoint\u001b[49m\u001b[43m[\u001b[49m\u001b[38;5;124;43m'\u001b[39;49m\u001b[38;5;124;43mmodel_state_dict\u001b[39;49m\u001b[38;5;124;43m'\u001b[39;49m\u001b[43m]\u001b[49m\u001b[43m)\u001b[49m\n",
      "File \u001b[0;32m~/.local/lib/python3.10/site-packages/torch/nn/modules/module.py:1667\u001b[0m, in \u001b[0;36mModule.load_state_dict\u001b[0;34m(self, state_dict, strict)\u001b[0m\n\u001b[1;32m   1662\u001b[0m         error_msgs\u001b[38;5;241m.\u001b[39minsert(\n\u001b[1;32m   1663\u001b[0m             \u001b[38;5;241m0\u001b[39m, \u001b[38;5;124m'\u001b[39m\u001b[38;5;124mMissing key(s) in state_dict: \u001b[39m\u001b[38;5;132;01m{}\u001b[39;00m\u001b[38;5;124m. \u001b[39m\u001b[38;5;124m'\u001b[39m\u001b[38;5;241m.\u001b[39mformat(\n\u001b[1;32m   1664\u001b[0m                 \u001b[38;5;124m'\u001b[39m\u001b[38;5;124m, \u001b[39m\u001b[38;5;124m'\u001b[39m\u001b[38;5;241m.\u001b[39mjoin(\u001b[38;5;124m'\u001b[39m\u001b[38;5;124m\"\u001b[39m\u001b[38;5;132;01m{}\u001b[39;00m\u001b[38;5;124m\"\u001b[39m\u001b[38;5;124m'\u001b[39m\u001b[38;5;241m.\u001b[39mformat(k) \u001b[38;5;28;01mfor\u001b[39;00m k \u001b[38;5;129;01min\u001b[39;00m missing_keys)))\n\u001b[1;32m   1666\u001b[0m \u001b[38;5;28;01mif\u001b[39;00m \u001b[38;5;28mlen\u001b[39m(error_msgs) \u001b[38;5;241m>\u001b[39m \u001b[38;5;241m0\u001b[39m:\n\u001b[0;32m-> 1667\u001b[0m     \u001b[38;5;28;01mraise\u001b[39;00m \u001b[38;5;167;01mRuntimeError\u001b[39;00m(\u001b[38;5;124m'\u001b[39m\u001b[38;5;124mError(s) in loading state_dict for \u001b[39m\u001b[38;5;132;01m{}\u001b[39;00m\u001b[38;5;124m:\u001b[39m\u001b[38;5;130;01m\\n\u001b[39;00m\u001b[38;5;130;01m\\t\u001b[39;00m\u001b[38;5;132;01m{}\u001b[39;00m\u001b[38;5;124m'\u001b[39m\u001b[38;5;241m.\u001b[39mformat(\n\u001b[1;32m   1668\u001b[0m                        \u001b[38;5;28mself\u001b[39m\u001b[38;5;241m.\u001b[39m\u001b[38;5;18m__class__\u001b[39m\u001b[38;5;241m.\u001b[39m\u001b[38;5;18m__name__\u001b[39m, \u001b[38;5;124m\"\u001b[39m\u001b[38;5;130;01m\\n\u001b[39;00m\u001b[38;5;130;01m\\t\u001b[39;00m\u001b[38;5;124m\"\u001b[39m\u001b[38;5;241m.\u001b[39mjoin(error_msgs)))\n\u001b[1;32m   1669\u001b[0m \u001b[38;5;28;01mreturn\u001b[39;00m _IncompatibleKeys(missing_keys, unexpected_keys)\n",
      "\u001b[0;31mRuntimeError\u001b[0m: Error(s) in loading state_dict for CategoricalPolicy:\n\tsize mismatch for embedder.block1.conv.weight: copying a param with shape torch.Size([16, 3, 3, 3]) from checkpoint, the shape in current model is torch.Size([64, 3, 3, 3]).\n\tsize mismatch for embedder.block1.conv.bias: copying a param with shape torch.Size([16]) from checkpoint, the shape in current model is torch.Size([64]).\n\tsize mismatch for embedder.block1.res1.conv1.weight: copying a param with shape torch.Size([16, 16, 3, 3]) from checkpoint, the shape in current model is torch.Size([64, 64, 3, 3]).\n\tsize mismatch for embedder.block1.res1.conv1.bias: copying a param with shape torch.Size([16]) from checkpoint, the shape in current model is torch.Size([64]).\n\tsize mismatch for embedder.block1.res1.conv2.weight: copying a param with shape torch.Size([16, 16, 3, 3]) from checkpoint, the shape in current model is torch.Size([64, 64, 3, 3]).\n\tsize mismatch for embedder.block1.res1.conv2.bias: copying a param with shape torch.Size([16]) from checkpoint, the shape in current model is torch.Size([64]).\n\tsize mismatch for embedder.block1.res2.conv1.weight: copying a param with shape torch.Size([16, 16, 3, 3]) from checkpoint, the shape in current model is torch.Size([64, 64, 3, 3]).\n\tsize mismatch for embedder.block1.res2.conv1.bias: copying a param with shape torch.Size([16]) from checkpoint, the shape in current model is torch.Size([64]).\n\tsize mismatch for embedder.block1.res2.conv2.weight: copying a param with shape torch.Size([16, 16, 3, 3]) from checkpoint, the shape in current model is torch.Size([64, 64, 3, 3]).\n\tsize mismatch for embedder.block1.res2.conv2.bias: copying a param with shape torch.Size([16]) from checkpoint, the shape in current model is torch.Size([64]).\n\tsize mismatch for embedder.block2.conv.weight: copying a param with shape torch.Size([32, 16, 3, 3]) from checkpoint, the shape in current model is torch.Size([128, 64, 3, 3]).\n\tsize mismatch for embedder.block2.conv.bias: copying a param with shape torch.Size([32]) from checkpoint, the shape in current model is torch.Size([128]).\n\tsize mismatch for embedder.block2.res1.conv1.weight: copying a param with shape torch.Size([32, 32, 3, 3]) from checkpoint, the shape in current model is torch.Size([128, 128, 3, 3]).\n\tsize mismatch for embedder.block2.res1.conv1.bias: copying a param with shape torch.Size([32]) from checkpoint, the shape in current model is torch.Size([128]).\n\tsize mismatch for embedder.block2.res1.conv2.weight: copying a param with shape torch.Size([32, 32, 3, 3]) from checkpoint, the shape in current model is torch.Size([128, 128, 3, 3]).\n\tsize mismatch for embedder.block2.res1.conv2.bias: copying a param with shape torch.Size([32]) from checkpoint, the shape in current model is torch.Size([128]).\n\tsize mismatch for embedder.block2.res2.conv1.weight: copying a param with shape torch.Size([32, 32, 3, 3]) from checkpoint, the shape in current model is torch.Size([128, 128, 3, 3]).\n\tsize mismatch for embedder.block2.res2.conv1.bias: copying a param with shape torch.Size([32]) from checkpoint, the shape in current model is torch.Size([128]).\n\tsize mismatch for embedder.block2.res2.conv2.weight: copying a param with shape torch.Size([32, 32, 3, 3]) from checkpoint, the shape in current model is torch.Size([128, 128, 3, 3]).\n\tsize mismatch for embedder.block2.res2.conv2.bias: copying a param with shape torch.Size([32]) from checkpoint, the shape in current model is torch.Size([128]).\n\tsize mismatch for embedder.block3.conv.weight: copying a param with shape torch.Size([32, 32, 3, 3]) from checkpoint, the shape in current model is torch.Size([128, 128, 3, 3]).\n\tsize mismatch for embedder.block3.conv.bias: copying a param with shape torch.Size([32]) from checkpoint, the shape in current model is torch.Size([128]).\n\tsize mismatch for embedder.block3.res1.conv1.weight: copying a param with shape torch.Size([32, 32, 3, 3]) from checkpoint, the shape in current model is torch.Size([128, 128, 3, 3]).\n\tsize mismatch for embedder.block3.res1.conv1.bias: copying a param with shape torch.Size([32]) from checkpoint, the shape in current model is torch.Size([128]).\n\tsize mismatch for embedder.block3.res1.conv2.weight: copying a param with shape torch.Size([32, 32, 3, 3]) from checkpoint, the shape in current model is torch.Size([128, 128, 3, 3]).\n\tsize mismatch for embedder.block3.res1.conv2.bias: copying a param with shape torch.Size([32]) from checkpoint, the shape in current model is torch.Size([128]).\n\tsize mismatch for embedder.block3.res2.conv1.weight: copying a param with shape torch.Size([32, 32, 3, 3]) from checkpoint, the shape in current model is torch.Size([128, 128, 3, 3]).\n\tsize mismatch for embedder.block3.res2.conv1.bias: copying a param with shape torch.Size([32]) from checkpoint, the shape in current model is torch.Size([128]).\n\tsize mismatch for embedder.block3.res2.conv2.weight: copying a param with shape torch.Size([32, 32, 3, 3]) from checkpoint, the shape in current model is torch.Size([128, 128, 3, 3]).\n\tsize mismatch for embedder.block3.res2.conv2.bias: copying a param with shape torch.Size([32]) from checkpoint, the shape in current model is torch.Size([128]).\n\tsize mismatch for embedder.fc.weight: copying a param with shape torch.Size([256, 2048]) from checkpoint, the shape in current model is torch.Size([256, 8192])."
     ]
    }
   ],
   "source": [
    "n_envs = 1\n",
    "logdir = None\n",
    "observation_space = venv.observation_space\n",
    "observation_shape = observation_space.shape\n",
    "in_channels = observation_shape[0]\n",
    "assert in_channels == 3, f'obs.shape[0]={observation_shape[0]} is not 3 (rgb) '\n",
    "n_steps = hyperparameters['n_steps']\n",
    "recurrent = hyperparameters['recurrent']\n",
    "device = torch.device('cpu')\n",
    "\n",
    "logger = Logger(n_envs, logdir)\n",
    "\n",
    "\n",
    "model = ImpalaModel(in_channels=in_channels)\n",
    "hidden_state_dim = model.output_dim\n",
    "policy = CategoricalPolicy(model, recurrent, action_size=venv.action_space.n)\n",
    "\n",
    "storage = Storage(observation_shape, hidden_state_dim, n_steps, n_envs, device)\n",
    "\n",
    "\n",
    "agent = PPO(venv, policy, logger, storage, device, n_checkpoints=1, **hyperparameters)\n",
    "agent.policy.load_state_dict(checkpoint['model_state_dict'])"
   ]
  },
  {
   "cell_type": "code",
   "execution_count": 218,
   "id": "7821eec8",
   "metadata": {},
   "outputs": [
    {
     "ename": "AttributeError",
     "evalue": "'ImpalaModel' object has no attribute 'conv1'",
     "output_type": "error",
     "traceback": [
      "\u001b[0;31m---------------------------------------------------------------------------\u001b[0m",
      "\u001b[0;31mAttributeError\u001b[0m                            Traceback (most recent call last)",
      "Cell \u001b[0;32mIn [218], line 1\u001b[0m\n\u001b[0;32m----> 1\u001b[0m \u001b[43mmodel\u001b[49m\u001b[38;5;241;43m.\u001b[39;49m\u001b[43mconv1\u001b[49m\n",
      "File \u001b[0;32m~/.local/lib/python3.10/site-packages/torch/nn/modules/module.py:1265\u001b[0m, in \u001b[0;36mModule.__getattr__\u001b[0;34m(self, name)\u001b[0m\n\u001b[1;32m   1263\u001b[0m     \u001b[38;5;28;01mif\u001b[39;00m name \u001b[38;5;129;01min\u001b[39;00m modules:\n\u001b[1;32m   1264\u001b[0m         \u001b[38;5;28;01mreturn\u001b[39;00m modules[name]\n\u001b[0;32m-> 1265\u001b[0m \u001b[38;5;28;01mraise\u001b[39;00m \u001b[38;5;167;01mAttributeError\u001b[39;00m(\u001b[38;5;124m\"\u001b[39m\u001b[38;5;124m'\u001b[39m\u001b[38;5;132;01m{}\u001b[39;00m\u001b[38;5;124m'\u001b[39m\u001b[38;5;124m object has no attribute \u001b[39m\u001b[38;5;124m'\u001b[39m\u001b[38;5;132;01m{}\u001b[39;00m\u001b[38;5;124m'\u001b[39m\u001b[38;5;124m\"\u001b[39m\u001b[38;5;241m.\u001b[39mformat(\n\u001b[1;32m   1266\u001b[0m     \u001b[38;5;28mtype\u001b[39m(\u001b[38;5;28mself\u001b[39m)\u001b[38;5;241m.\u001b[39m\u001b[38;5;18m__name__\u001b[39m, name))\n",
      "\u001b[0;31mAttributeError\u001b[0m: 'ImpalaModel' object has no attribute 'conv1'"
     ]
    }
   ],
   "source": [
    "model.conv1"
   ]
  },
  {
   "cell_type": "code",
   "execution_count": null,
   "id": "2edf7d59",
   "metadata": {},
   "outputs": [],
   "source": []
  }
 ],
 "metadata": {
  "kernelspec": {
   "display_name": "Python 3 (ipykernel)",
   "language": "python",
   "name": "python3"
  },
  "language_info": {
   "codemirror_mode": {
    "name": "ipython",
    "version": 3
   },
   "file_extension": ".py",
   "mimetype": "text/x-python",
   "name": "python",
   "nbconvert_exporter": "python",
   "pygments_lexer": "ipython3",
   "version": "3.10.8"
  }
 },
 "nbformat": 4,
 "nbformat_minor": 5
}

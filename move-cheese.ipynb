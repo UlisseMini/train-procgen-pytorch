{
 "cells": [
  {
   "cell_type": "code",
   "execution_count": 1,
   "id": "702720ad",
   "metadata": {},
   "outputs": [],
   "source": [
    "%matplotlib inline\n",
    "import matplotlib.pyplot as plt"
   ]
  },
  {
   "cell_type": "code",
   "execution_count": 2,
   "id": "3efeb91a",
   "metadata": {},
   "outputs": [],
   "source": [
    "import numpy as np\n",
    "from procgen import ProcgenEnv\n",
    "import struct\n",
    "from dataclasses import dataclass\n",
    "import typing\n",
    "from einops import rearrange"
   ]
  },
  {
   "cell_type": "code",
   "execution_count": 112,
   "id": "69822a4f",
   "metadata": {},
   "outputs": [],
   "source": [
    "\n",
    "# Parse the environment state dict\n",
    "\n",
    "MAZE_STATE_DICT_TEMPLATE = [\n",
    "    ['int',    'SERIALIZE_VERSION'],\n",
    "    ['string', 'game_name'],\n",
    "    ['int',    'options.paint_vel_info'],\n",
    "    ['int',    'options.use_generated_assets'],\n",
    "    ['int',    'options.use_monochrome_assets'],\n",
    "    ['int',    'options.restrict_themes'],\n",
    "    ['int',    'options.use_backgrounds'],\n",
    "    ['int',    'options.center_agent'],\n",
    "    ['int',    'options.debug_mode'],\n",
    "    ['int',    'options.distribution_mode'],\n",
    "    ['int',    'options.use_sequential_levels'],\n",
    "    ['int',    'options.use_easy_jump'],\n",
    "    ['int',    'options.plain_assets'],\n",
    "    ['int',    'options.physics_mode'],\n",
    "    ['int',    'grid_step'],\n",
    "    ['int',    'level_seed_low'],\n",
    "    ['int',    'level_seed_high'],\n",
    "    ['int',    'game_type'],\n",
    "    ['int',    'game_n'],\n",
    "    # level_seed_rand_gen.serialize(b'],\n",
    "    ['int',    'level_seed_rand_gen.is_seeded'],\n",
    "    ['string', 'level_seed_rand_gen.str'],\n",
    "    # end level_seed_rand_gen.serialize(b'],\n",
    "    # rand_gen.serialize(b'],\n",
    "    ['int',    'rand_gen.is_seeded'],\n",
    "    ['string', 'rand_gen.str'],\n",
    "    # end rand_gen.serialize(b'],\n",
    "    ['float',  'step_data.reward'],\n",
    "    ['int',    'step_data.done'],\n",
    "    ['int',    'step_data.level_complete'],\n",
    "    ['int',    'action'],\n",
    "    ['int',    'timeout'],\n",
    "    ['int',    'current_level_seed'],\n",
    "    ['int',    'prev_level_seed'],\n",
    "    ['int',    'episodes_remaining'],\n",
    "    ['int',    'episode_done'],\n",
    "    ['int',    'last_reward_timer'],\n",
    "    ['float',  'last_reward'],\n",
    "    ['int',    'default_action'],\n",
    "    ['int',    'fixed_asset_seed'],\n",
    "    ['int',    'cur_time'],\n",
    "    ['int',    'is_waiting_for_step'],\n",
    "    # end Game::serialize(b'],\n",
    "    ['int',    'grid_size'],\n",
    "    # write_entities(b, entities'],\n",
    "    ['int',    'ents.size'],\n",
    "    #for (size_t i = 0; i < ents.size(', i++)\n",
    "    ['loop',   'ents', 'ents.size', [\n",
    "        # ents[i]->serialize(b'],\n",
    "        ['float',  'x'],\n",
    "        ['float',  'y'],\n",
    "        ['float',  'vx'],\n",
    "        ['float',  'vy'],\n",
    "        ['float',  'rx'],\n",
    "        ['float',  'ry'],\n",
    "        ['int',    'type'],\n",
    "        ['int',    'image_type'],\n",
    "        ['int',    'image_theme'],\n",
    "        ['int',    'render_z'],\n",
    "        ['int',    'will_erase'],\n",
    "        ['int',    'collides_with_entities'],\n",
    "        ['float',  'collision_margin'],\n",
    "        ['float',  'rotation'],\n",
    "        ['float',  'vrot'],\n",
    "        ['int',    'is_reflected'],\n",
    "        ['int',    'fire_time'],\n",
    "        ['int',    'spawn_time'],\n",
    "        ['int',    'life_time'],\n",
    "        ['int',    'expire_time'],\n",
    "        ['int',    'use_abs_coords'],\n",
    "        ['float',  'friction'],\n",
    "        ['int',    'smart_step'],\n",
    "        ['int',    'avoids_collisions'],\n",
    "        ['int',    'auto_erase'],\n",
    "        ['float',  'alpha'],\n",
    "        ['float',  'health'],\n",
    "        ['float',  'theta'],\n",
    "        ['float',  'grow_rate'],\n",
    "        ['float',  'alpha_decay'],\n",
    "        ['float',  'climber_spawn_x',]]],\n",
    "    # end ents[i]->serialize(b'],\n",
    "    # end write_entities\n",
    "    ['int',    'use_procgen_background'],\n",
    "    ['int',    'background_index'],\n",
    "    ['float',  'bg_tile_ratio'],\n",
    "    ['float',  'bg_pct_x'],\n",
    "    ['float',  'char_dim'],\n",
    "    ['int',    'last_move_action'],\n",
    "    ['int',    'move_action'],\n",
    "    ['int',    'special_action'],\n",
    "    ['float',  'mixrate'],\n",
    "    ['float',  'maxspeed'],\n",
    "    ['float',  'max_jump'],\n",
    "    ['float',  'action_vx'],\n",
    "    ['float',  'action_vy'],\n",
    "    ['float',  'action_vrot'],\n",
    "    ['float',  'center_x'],\n",
    "    ['float',  'center_y'],\n",
    "    ['int',    'random_agent_start'],\n",
    "    ['int',    'has_useful_vel_info'],\n",
    "    ['int',    'step_rand_int'],\n",
    "    # asset_rand_gen.serialize(b'],\n",
    "    ['int',    'asset_rand_gen.is_seeded'],\n",
    "    ['string', 'asset_rand_gen.str'],\n",
    "    # end asset_rand_gen.serialize(b'],\n",
    "    ['int',    'main_width'],\n",
    "    ['int',    'main_height'],\n",
    "    ['int',    'out_of_bounds_object'],\n",
    "    ['float',  'unit'],\n",
    "    ['float',  'view_dim'],\n",
    "    ['float',  'x_off'],\n",
    "    ['float',  'y_off'],\n",
    "    ['float',  'visibility'],\n",
    "    ['float',  'min_visibility'],\n",
    "    # grid.serialize(b'],\n",
    "    ['int',    'w'],\n",
    "    ['int',    'h'],\n",
    "    # b->write_vector_int(data'],\n",
    "    ['int',    'data.size'],\n",
    "    # for (auto i : v) {\n",
    "    ['loop',   'data', 'data.size', [['int',    'i']]],\n",
    "    # end b->write_vector_int(data'],\n",
    "    # end grid.serialize(b'],\n",
    "    # end BasicAbstractGame::serialize(b'],\n",
    "    ['int',    'maze_dim'],\n",
    "    ['int',    'world_dim'], \n",
    "    ['int',    'END_OF_BUFFER']]\n",
    "\n",
    "@dataclass\n",
    "class StateValue:\n",
    "    val: typing.Any\n",
    "    idx: int\n",
    "\n",
    "def parse_maze_state_bytes(state_bytes):\n",
    "    # Functions to read values of different types\n",
    "    def read_fixed(sb, idx, fmt):\n",
    "        sz = struct.calcsize(fmt)\n",
    "        # print(f'{idx} chomp {sz} got {len(sb[idx:(idx+sz)])} fmt {fmt}')\n",
    "        val = struct.unpack(fmt, sb[idx:(idx+sz)])[0]\n",
    "        idx += sz\n",
    "        return val, idx\n",
    "    read_int = lambda sb, idx: read_fixed(sb, idx, '@i')\n",
    "    read_float = lambda sb, idx: read_fixed(sb, idx, '@f')\n",
    "    def read_string(sb, idx):\n",
    "        sz, idx = read_int(sb, idx)\n",
    "        val = sb[idx:(idx+sz)].decode('ascii')\n",
    "        idx += sz\n",
    "        return val, idx\n",
    "    \n",
    "    # Function to process a value definition and return a value (called recursively for loops)\n",
    "    def parse_value(vals, val_def, idx):\n",
    "        typ = val_def[0]\n",
    "        name = val_def[1]\n",
    "        # print((typ, name))\n",
    "        if typ == 'int':\n",
    "            val, idx = read_int(state_bytes, idx)\n",
    "            vals[name] = StateValue(val, idx)\n",
    "        elif typ == 'float':\n",
    "            val, idx = read_float(state_bytes, idx)\n",
    "            vals[name] = StateValue(val, idx)\n",
    "        elif typ == 'string':\n",
    "            val, idx = read_string(state_bytes, idx)\n",
    "            vals[name] = StateValue(val, idx)\n",
    "        elif typ == 'loop':\n",
    "            len_name = val_def[2]\n",
    "            loop_val_defs = val_def[3]\n",
    "            loop_len = vals[len_name].val\n",
    "            vals[name] = []\n",
    "            for ii in range(loop_len):\n",
    "                vals_this = {}\n",
    "                for loop_val_def in loop_val_defs:\n",
    "                    idx = parse_value(vals_this, loop_val_def, idx)\n",
    "                vals[name].append(vals_this)\n",
    "        return idx\n",
    "    \n",
    "    # Dict to hold values\n",
    "    vals = {}\n",
    "    \n",
    "    # Loop over list of value defs, parsing each\n",
    "    idx = 0\n",
    "    for val_def in MAZE_STATE_DICT_TEMPLATE:\n",
    "        idx = parse_value(vals, val_def, idx)\n",
    "\n",
    "    return vals\n",
    "\n",
    "def serialize_maze_state(state_vals):\n",
    "    # Serialize any value to a bytes object\n",
    "    def serialize_val(val):\n",
    "        if isinstance(val, StateValue):\n",
    "            val = val.val\n",
    "        if isinstance(val, int):\n",
    "            return struct.pack('@i', val)\n",
    "        elif isinstance(val, float):\n",
    "            return struct.pack('@f', val)\n",
    "        elif isinstance(val, str):\n",
    "            return serialize_val(len(val)) + val.encode('ascii')\n",
    " \n",
    "    # Flatten the nested values into a single list of primitives\n",
    "    def flatten_vals(vals, flat_list=[]):\n",
    "        if isinstance(vals, dict):\n",
    "            for val in vals.values():\n",
    "                flatten_vals(val, flat_list)\n",
    "        elif isinstance(vals, list):\n",
    "            for val in vals:\n",
    "                flatten_vals(val, flat_list)\n",
    "        else:\n",
    "            flat_list.append(vals)\n",
    "    \n",
    "    # Flatten the values, then serialize\n",
    "    flat_vals = []\n",
    "    flatten_vals(state_vals, flat_vals)\n",
    "    return b''.join([serialize_val(val) for val in flat_vals])\n",
    "    #return sum([serialize_val(val) for val in flat_vals])\n",
    "    #return serialize_val(state_vals)\n",
    "\n"
   ]
  },
  {
   "cell_type": "code",
   "execution_count": 113,
   "id": "27523a30",
   "metadata": {},
   "outputs": [
    {
     "data": {
      "text/plain": [
       "<matplotlib.image.AxesImage at 0x7f42ea03d270>"
      ]
     },
     "execution_count": 113,
     "metadata": {},
     "output_type": "execute_result"
    },
    {
     "data": {
      "image/png": "[encoded data removed]",
      "text/plain": [
       "<Figure size 640x480 with 1 Axes>"
      ]
     },
     "metadata": {},
     "output_type": "display_data"
    }
   ],
   "source": [
    "# Make env the gym3 way\n",
    "venv = ProcgenEnv(num_envs=1, env_name='maze', num_levels=0, start_level=0)\n",
    "obs = venv.reset() \n",
    "plt.imshow(obs['rgb'][0, ...])"
   ]
  },
  {
   "cell_type": "code",
   "execution_count": 114,
   "id": "ea13e6c9",
   "metadata": {},
   "outputs": [],
   "source": [
    "# Get the serialized state\n",
    "state_bytes = venv.env.callmethod(\"get_state\")[0]\n",
    "state_vals = parse_maze_state_bytes(state_bytes)\n",
    "\n",
    "# Test that serialize(deserialize(x)) = x\n",
    "assert state_bytes == serialize_maze_state(state_vals)"
   ]
  },
  {
   "cell_type": "code",
   "execution_count": 115,
   "id": "5c19bc32",
   "metadata": {},
   "outputs": [
    {
     "data": {
      "text/plain": [
       "StateValue(val=25, idx=23043)"
      ]
     },
     "execution_count": 115,
     "metadata": {},
     "output_type": "execute_result"
    }
   ],
   "source": [
    "state_vals['world_dim']"
   ]
  },
  {
   "cell_type": "code",
   "execution_count": 116,
   "id": "1bef153e",
   "metadata": {},
   "outputs": [
    {
     "data": {
      "text/plain": [
       "<matplotlib.image.AxesImage at 0x7f42e9e2da50>"
      ]
     },
     "execution_count": 116,
     "metadata": {},
     "output_type": "execute_result"
    },
    {
     "data": {
      "image/png": "[encoded data removed]",
      "text/plain": [
       "<Figure size 640x480 with 1 Axes>"
      ]
     },
     "metadata": {},
     "output_type": "display_data"
    }
   ],
   "source": [
    "# Show that we can get the maze state (walls, cheese, etc.)\n",
    "#grid_vals = rearrange(np.array([dd['i'].val for dd in state_vals['data']]), '(h w) -> h w', \n",
    "#    h=state_vals['world_dim'].val)\n",
    "\n",
    "world_dim = state_vals['world_dim'].val\n",
    "grid_vals = np.array([dd['i'].val for dd in state_vals['data']]).reshape(world_dim, world_dim)\n",
    "plt.imshow(grid_vals, origin='lower')"
   ]
  },
  {
   "cell_type": "code",
   "execution_count": 117,
   "id": "8e570dae",
   "metadata": {},
   "outputs": [
    {
     "data": {
      "text/plain": [
       "<matplotlib.image.AxesImage at 0x7f42e9ed66b0>"
      ]
     },
     "execution_count": 117,
     "metadata": {},
     "output_type": "execute_result"
    },
    {
     "data": {
      "image/png": "[encoded data removed]",
      "text/plain": [
       "<Figure size 640x480 with 1 Axes>"
      ]
     },
     "metadata": {},
     "output_type": "display_data"
    }
   ],
   "source": [
    "# Get the cheese position\n",
    "GRID_VAL_CHEESE = 2\n",
    "GRID_VAL_OPEN = 100\n",
    "curr_cheese_row, curr_cheese_col = [a[0] for a in np.nonzero(grid_vals==GRID_VAL_CHEESE)] # We know there will only be one element in these index arrays\n",
    "# equiv to (25*curr_cheese_row + curr_cheese_col) in this case\n",
    "curr_cheese_idx = np.ravel_multi_index((curr_cheese_row, curr_cheese_col), grid_vals.shape)\n",
    "\n",
    "# Get rid of existing cheese\n",
    "state_vals['data'][curr_cheese_idx]['i'].val = GRID_VAL_OPEN\n",
    "\n",
    "# Move the cheese to the top right corner (highest top right open square)\n",
    "htr = [i for i in range(len(grid_vals)) if grid_vals[i, i] == GRID_VAL_OPEN][-1]\n",
    "new_cheese_idx = np.ravel_multi_index((htr, htr), grid_vals.shape)\n",
    "assert state_vals['data'][new_cheese_idx]['i'].val == GRID_VAL_OPEN, f'cheese cant go there'\n",
    "state_vals['data'][new_cheese_idx]['i'].val = GRID_VAL_CHEESE\n",
    "\n",
    "# plot the new grid\n",
    "grid_vals = rearrange(np.array([dd['i'].val for dd in state_vals['data']]), '(h w) -> h w', \n",
    "    h=state_vals['world_dim'].val)\n",
    "plt.imshow(grid_vals, origin='lower')"
   ]
  },
  {
   "cell_type": "code",
   "execution_count": 118,
   "id": "7d791d01",
   "metadata": {},
   "outputs": [],
   "source": [
    "# Re-serialize the modified states\n",
    "state_bytes_mod = serialize_maze_state(state_vals)\n"
   ]
  },
  {
   "cell_type": "code",
   "execution_count": 120,
   "id": "b85c298c",
   "metadata": {},
   "outputs": [
    {
     "data": {
      "text/plain": [
       "<matplotlib.image.AxesImage at 0x7f42e9c77640>"
      ]
     },
     "execution_count": 120,
     "metadata": {},
     "output_type": "execute_result"
    },
    {
     "data": {
      "image/png": "[encoded data removed]",
      "text/plain": [
       "<Figure size 640x480 with 1 Axes>"
      ]
     },
     "metadata": {},
     "output_type": "display_data"
    }
   ],
   "source": [
    "# Try loading a new env with a different seed, then loading the modified state, see if it all works\n",
    "venv = ProcgenEnv(num_envs=1, env_name='maze', num_levels=2, start_level=1)\n",
    "venv.env.callmethod(\"set_state\", [state_bytes_mod])\n",
    "obs = venv.reset() \n",
    "plt.imshow(obs['rgb'][0,...])"
   ]
  },
  {
   "cell_type": "code",
   "execution_count": null,
   "id": "2e731249",
   "metadata": {},
   "outputs": [],
   "source": []
  }
 ],
 "metadata": {
  "kernelspec": {
   "display_name": "Python 3 (ipykernel)",
   "language": "python",
   "name": "python3"
  },
  "language_info": {
   "codemirror_mode": {
    "name": "ipython",
    "version": 3
   },
   "file_extension": ".py",
   "mimetype": "text/x-python",
   "name": "python",
   "nbconvert_exporter": "python",
   "pygments_lexer": "ipython3",
   "version": "3.10.8"
  }
 },
 "nbformat": 4,
 "nbformat_minor": 5
}
